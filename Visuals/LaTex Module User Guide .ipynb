{
 "cells": [
  {
   "cell_type": "markdown",
   "metadata": {},
   "source": [
    "\n",
    "<p style='color:red'>Introdução sobre projeto.... preguiça de escrever agora</p>\n",
    "\n",
    "## 1. Repository Structure\n",
    "\n",
    "The package is structured in repository as follows:\n",
    "\n",
    "    jp_notebook_visuals/\n",
    "    |  LICENSE\n",
    "    |  README.md   >>>you are here<<<\n",
    "    |  Visuals/    \n",
    "    |  |   __init__.py\n",
    "    |  |   FastMatplot.py\n",
    "    |  |   LaTex.py\n",
    "    |  |  \n",
    "    |  |   _base_/\n",
    "    |  |  |   __init__.py\n",
    "    |  |  |  _axes_base.py\n",
    "    |  |  |  _graph_base.py\n",
    "    |  |  \n",
    "    |  |  _utils_/\n",
    "    |  |  |   __init__.py\n",
    "    |  |  |  _exceptions.py\n",
    "    |  |  |  _type_definitions.py\n",
    "    |  |  |  _functions.py\n",
    "    \n",
    "            \n",
    "\n",
    "## 2. Installation \n",
    "\n",
    "To install Visuals module, two main options are available\n",
    "\n",
    "#### 2.1 via pip install\n",
    "\n",
    "The simplest way is to install the package is achieved via PIP, the __package installer for python__ used to download packages from <a href='https://pypi.org/'>PyPI</a>, the Python Package Index. The package url in PyPI can be found <a href='https://pypi.org/project/jp-notebook-utils/'>here</a>\n",
    "\n",
    "To install the package, simply open a terminal or kernel and run the following command:\n",
    "\n",
    "`pip install jp_notebook_visuals` \n",
    "\n",
    "#### 2.2 via github\n",
    "\n",
    "It is also possible to clone a public github repository or simply download zip file where the source code is located. In case you are reading this readme.md file from anywhere but github, Visuals package source code can be found in github <a href='https://github.com/rodrigodoering/jp_notebook_visuals'>here</a>\n",
    "\n",
    "\n",
    "#### 2.3 Installation requirements\n",
    "\n",
    "At the moment, as a pre-alpha stage code, jp_notebook_visuals package requires a strict set of public python libraries with a minimum obligatory version, which can be found at `setup.py` script: \n",
    "\n",
    "     python >= 3.5.2\n",
    "     matplotlib >= 3.3.0\n",
    "     numpy >= 1.19.2\n",
    "     pandas >= 1.1.3\n",
    "\n",
    "If any of the above requirements is not satisfied and jp_notebook_visuals package is installed via __pip__ ina  terminal, installation will be cancalled. It can however works perfectly if installation occurred via repository clone since it wont evaluate install requirements set in `setup.py`. \n",
    "\n",
    "__Important Note__:\n",
    "\n",
    "Although these requirements might stop installation in the middle if not fulfilled, they are not strictly mandatory for the package to work. During setup configuration and package development, code has been tested only in two specific python environments, so the requirerments are, at least for now, simply based on the least up to date environment where the modules were tested in first place. In general terms, what the package strictly requires for running is a python 3.5 environment since the modules make use of __type hinting__ which was only introduced to python by that version. Type hints allow a more readable code with better documentation which is exactly what we are looking for here. In special, its possible to study the existing user-defined types <a href='https://github.com/rodrigodoering/jp_notebook_visuals/blob/main/Visuals/_utils_/_type_definitions.py'>here</a>, making it easier to use the functions. \n",
    "\n",
    "\n",
    "## 3 Importing\n",
    "\n",
    "Once....something \n",
    "\n",
    "\n",
    "<p style='color:red'>\n",
    "PRECISO CONTINUAR AQUI DEPOIS, MAS SI PA NÃO VOU PRECISAR DESSA PARTE...\n",
    "CÉLULA DE CÓDIGO ABAIXO É APENAS PARA CARREGAR O DIRETÓRIO LOCAL NO PC - NÃO ESQUECER DE\n",
    "EXCLUIR NA VERSÃO FINAL\n",
    "\n",
    "</p>"
   ]
  },
  {
   "cell_type": "code",
   "execution_count": 1,
   "metadata": {},
   "outputs": [],
   "source": [
    "import sys\n",
    "sys.path.append('C:\\\\Users\\\\rodri\\\\github\\\\jp_notebook_visuals_git')"
   ]
  },
  {
   "cell_type": "markdown",
   "metadata": {},
   "source": [
    "<p style='color:red'>Seguindo...</p>"
   ]
  },
  {
   "cell_type": "markdown",
   "metadata": {},
   "source": [
    "## 4 LaTex Module\n",
    "\n",
    "LaTex module contains functions for displaying LaTex language expressions in a nice fashion in jupyter notebook presentations. Three main functions are declared within the module:\n",
    "\n",
    "- display_expression\n",
    "- display_vec\n",
    "- display_matrix\n",
    "\n",
    "`display_expression` function is the principal one, responsible for actually displaying latex code in stdout. The other two, `display_vec` and `display_matrix` are adaptations for structuring specific latex code for displaying matrices and vectors, but internally use `display_expression` function as well.\n",
    "\n",
    "For more information about latex expressions, a good option is __Overleaf__, where you can find a good and complete documentation about what LaTex is and how to use it (specially in the context of writing scientific papers that require mathematical formulations). The following <a href='https://www.overleaf.com/learn/latex/Learn_LaTeX_in_30_minutes'>link</a> is a 30 minutes tutorial in Overleaf, where you can read more about it.\n",
    "\n",
    "To import LaTex module we can run the following:"
   ]
  },
  {
   "cell_type": "code",
   "execution_count": 3,
   "metadata": {},
   "outputs": [],
   "source": [
    "from Visuals import LaTex"
   ]
  },
  {
   "cell_type": "markdown",
   "metadata": {},
   "source": [
    "Other options to import the module with an alias:\n",
    "\n",
    "    from Visuals import LaTex as lx\n",
    "   \n",
    "Or to import directly the existing functions:\n",
    "\n",
    "    from Visuals.LaTex import display_expression\n",
    "    from Visuals.LaTex import display_matrix\n",
    "    from Visuals.LaTex import display_vec\n",
    "\n",
    "Lets create a example latex expression using the famous __sigmoid function__ (a popular activation function used  by many algorithms in machine learning and statistical modelling fields):"
   ]
  },
  {
   "cell_type": "code",
   "execution_count": 11,
   "metadata": {},
   "outputs": [],
   "source": [
    "sigmoid = 'f(x) = \\\\frac{1}{1 + e^{-(x)}}'"
   ]
  },
  {
   "cell_type": "code",
   "execution_count": 14,
   "metadata": {},
   "outputs": [
    {
     "data": {
      "text/plain": [
       "str"
      ]
     },
     "execution_count": 14,
     "metadata": {},
     "output_type": "execute_result"
    }
   ],
   "source": [
    "type(sigmoid)"
   ]
  },
  {
   "cell_type": "markdown",
   "metadata": {},
   "source": [
    "If we simply print this variable, it will appear as a simple string in stdout:\n",
    "\n",
    "    print(sigmoid)\n",
    "    >>> 'f(x) = \\frac{1}{1 + e^{-(x)}}'\n",
    "  \n",
    "Now, by passing this same expression to __LaTex.display_expression__ function, it will properly display the latex equation:\n",
    "    "
   ]
  },
  {
   "cell_type": "code",
   "execution_count": 13,
   "metadata": {},
   "outputs": [
    {
     "data": {
      "text/markdown": [
       "<br>$\\large  {f(x) = \\frac{1}{1 + e^{-(x)}}}$<br>"
      ],
      "text/plain": [
       "<IPython.core.display.Markdown object>"
      ]
     },
     "metadata": {},
     "output_type": "display_data"
    }
   ],
   "source": [
    "LaTex.display_expression(sigmoid)"
   ]
  },
  {
   "cell_type": "markdown",
   "metadata": {},
   "source": [
    "There are a few customizable parameters the function supports, all related to LaTex native keywords: `size`, `style` and `font`. Please refer to the following documentations in Overleaf for more information about:\n",
    "\n",
    "- <a href='https://www.overleaf.com/learn/latex/Font_sizes,_families,_and_styles'>font sizes</a>\n",
    "- <a href='https://www.overleaf.com/learn/latex/Display_style_in_math_mode'>display styles</a>\n",
    "- <a href='https://www.overleaf.com/learn/latex/Mathematical_fonts'>Math fonts</a>\n",
    "    \n",
    "The available options are stored as list variables inside the module `Visuals.LaTex`itself, and we can even access this variables if needed: "
   ]
  },
  {
   "cell_type": "code",
   "execution_count": 22,
   "metadata": {},
   "outputs": [
    {
     "name": "stdout",
     "output_type": "stream",
     "text": [
      "Available styles [' ', ' \\\\displaystyle ', ' \\\\textstyle ', ' \\\\scriptstyle ', ' \\\\scriptscriptstyle ']\n"
     ]
    }
   ],
   "source": [
    "print('Available styles', LaTex.available_styles)"
   ]
  },
  {
   "cell_type": "markdown",
   "metadata": {},
   "source": [
    "The parameters here are integers since they work as index for the desired value. Lets run an example with math fonts to see how the function select the desired preset and display the sigmoid function with different values for `font`parameter:"
   ]
  },
  {
   "cell_type": "code",
   "execution_count": 33,
   "metadata": {},
   "outputs": [
    {
     "name": "stdout",
     "output_type": "stream",
     "text": [
      "\n",
      "Index 0, Font: \n"
     ]
    },
    {
     "data": {
      "text/markdown": [
       "<br>$\\Large  {f(x) = \\frac{1}{1 + e^{-(x)}}}$<br>"
      ],
      "text/plain": [
       "<IPython.core.display.Markdown object>"
      ]
     },
     "metadata": {},
     "output_type": "display_data"
    },
    {
     "name": "stdout",
     "output_type": "stream",
     "text": [
      "\n",
      "Index 1, Font: \\mathcal\n"
     ]
    },
    {
     "data": {
      "text/markdown": [
       "<br>$\\Large  \\mathcal{f(x) = \\frac{1}{1 + e^{-(x)}}}$<br>"
      ],
      "text/plain": [
       "<IPython.core.display.Markdown object>"
      ]
     },
     "metadata": {},
     "output_type": "display_data"
    },
    {
     "name": "stdout",
     "output_type": "stream",
     "text": [
      "\n",
      "Index 2, Font: \\mathfrak\n"
     ]
    },
    {
     "data": {
      "text/markdown": [
       "<br>$\\Large  \\mathfrak{f(x) = \\frac{1}{1 + e^{-(x)}}}$<br>"
      ],
      "text/plain": [
       "<IPython.core.display.Markdown object>"
      ]
     },
     "metadata": {},
     "output_type": "display_data"
    }
   ],
   "source": [
    "# Interate over the first three available fonts\n",
    "# For the example it's not necessary to use all available fonts\n",
    "for i, font in enumerate(LaTex.available_fonts[:3]):\n",
    "    \n",
    "    # print selected index and respective font\n",
    "    print('\\nIndex %d, Font: %s' % (i, font))\n",
    "    \n",
    "    # display expression with selected font\n",
    "    LaTex.display_expression(sigmoid, size=5, font=i)\n",
    "    "
   ]
  },
  {
   "cell_type": "markdown",
   "metadata": {},
   "source": [
    "Now, suppose we want to implement and run the sigmoid function, we can display the data easily with the other two functions in the module. First we create a vector with $x$ values as input for the sigmoid function:"
   ]
  },
  {
   "cell_type": "code",
   "execution_count": 50,
   "metadata": {},
   "outputs": [],
   "source": [
    "import numpy as np\n",
    "\n",
    "X = np.linspace(0,1,5)"
   ]
  },
  {
   "cell_type": "markdown",
   "metadata": {},
   "source": [
    "Now, we must define a simple sigmoid function to pass the $x$ input and compute $f(x)$ values"
   ]
  },
  {
   "cell_type": "code",
   "execution_count": 51,
   "metadata": {},
   "outputs": [],
   "source": [
    "def sigmoid(x):\n",
    "    \"\"\" Implements sigmoid function \"\"\"\n",
    "    return 1 / (1 + np.e**(-x))\n",
    "\n",
    "f_x = [sigmoid(x) for x in X]"
   ]
  },
  {
   "cell_type": "markdown",
   "metadata": {},
   "source": [
    "Lets view the vector produced in LaTex display by calling `display_vec`function:"
   ]
  },
  {
   "cell_type": "code",
   "execution_count": 52,
   "metadata": {},
   "outputs": [
    {
     "data": {
      "text/markdown": [
       "<br>$\\normalsize  {f(x) = \\begin{bmatrix}0.50\\\\0.56\\\\0.62\\\\0.68\\\\0.73\\end{bmatrix}}$<br>"
      ],
      "text/plain": [
       "<IPython.core.display.Markdown object>"
      ]
     },
     "metadata": {},
     "output_type": "display_data"
    },
    {
     "data": {
      "text/markdown": [
       "<br>$\\small  {\\text{Vector space in }\\mathbb{R}^5}$<br>"
      ],
      "text/plain": [
       "<IPython.core.display.Markdown object>"
      ]
     },
     "metadata": {},
     "output_type": "display_data"
    }
   ],
   "source": [
    "LaTex.display_vec(f_x, label='f(x)', size=3)"
   ]
  },
  {
   "cell_type": "markdown",
   "metadata": {},
   "source": [
    "A few interesting things above:\n",
    "- both `display_vec`and `display_matrix` functions supports a `label` parameter where you can name and identify the matrix or vector. It supports Latex display as well and we can even pass more elaborated LaTex expressions as labels for the visualization.\n",
    "\n",
    "- we are passing once again the `size` parameter, only now this is a __kwarg__ argunment. As mentioned before, both `display_vec`and `display_matrix` functions are calling `display_expression`internally, thus allowing the user to personalize LaTex keywords by passing kwargs internally to `display_expression` call.\n",
    "\n",
    "- In both functions, there is a boolean parameter `info` with default value of `True`. If true, it will display stylish information formated in LaTex as well about the vector or matrix dimensions. \n",
    "\n",
    "To test the other function, `display_matrix`, lets simply stack both vectors and compose a 5x2 matrix called $S$:"
   ]
  },
  {
   "cell_type": "code",
   "execution_count": 64,
   "metadata": {},
   "outputs": [
    {
     "data": {
      "text/markdown": [
       "<br>$\\large  {S = \\begin{bmatrix}0&0.50\\\\0.25&0.56\\\\0.50&0.62\\\\0.75&0.68\\\\1&0.73\\end{bmatrix}}$<br>"
      ],
      "text/plain": [
       "<IPython.core.display.Markdown object>"
      ]
     },
     "metadata": {},
     "output_type": "display_data"
    },
    {
     "data": {
      "text/markdown": [
       "<br>$\\small  {\\text{Matrix of elements }a_{i,j} \\in \\mathbb{R}^{5 \\times 2}}$<br>"
      ],
      "text/plain": [
       "<IPython.core.display.Markdown object>"
      ]
     },
     "metadata": {},
     "output_type": "display_data"
    }
   ],
   "source": [
    "S = np.vstack((x,y)).T\n",
    "LaTex.display_matrix(aug_matrix, label='S')"
   ]
  },
  {
   "cell_type": "markdown",
   "metadata": {},
   "source": [
    "One very import thing to always keep in mind is that displaying LaTex is __memory consuming__. Often in fields such as data science and machine learning engineering we will be presented to huge datasets with millions of rows or columns (or both depending on the application), and displaying those as latex might cause memory crashs and __very__ slow execution times. Turns out, you can define a limit value for rows or columns (or both) with `n_rows` and `n_cols` arguments prior to be shown. In case of matrices, you can use both parameters. As for vectors, since they are uni-dimensional, usa only `n_rows`. Bellow I run an example by creating a $100 \\times 10$ matrix and display it:"
   ]
  },
  {
   "cell_type": "code",
   "execution_count": 71,
   "metadata": {},
   "outputs": [
    {
     "data": {
      "text/markdown": [
       "<br>$\\large  {\\begin{bmatrix}0.62&0.42&0.49\\\\0.02&0.41&0.97\\\\0.00&0.38&0.28\\\\0.35&0.20&0.20\\\\0.04&0.38&0.50\\\\0.03&0.92&0.01\\\\0.48&0.85&0.88\\\\0.79&0.05&0.20\\\\0.11&0.78&0.86\\\\0.24&0.41&0.35\\end{bmatrix}}$<br>"
      ],
      "text/plain": [
       "<IPython.core.display.Markdown object>"
      ]
     },
     "metadata": {},
     "output_type": "display_data"
    },
    {
     "data": {
      "text/markdown": [
       "<br>$\\small  {\\text{Matrix of elements }a_{i,j} \\in \\mathbb{R}^{100 \\times 10}}$<br>"
      ],
      "text/plain": [
       "<IPython.core.display.Markdown object>"
      ]
     },
     "metadata": {},
     "output_type": "display_data"
    }
   ],
   "source": [
    "LaTex.display_matrix(np.random.rand(100,10), n_rows=10, n_cols=3)"
   ]
  },
  {
   "cell_type": "markdown",
   "metadata": {},
   "source": [
    "So, there are $1000$ values stored in that matrix, but I decided to limit the visualization to only 30 values (10 rows with 3 columns each). However, observe that the information displayed at the bottom holds the original dimensions of the matrix. The operation of \"cropping\" the matrix happens after storing the matrix dimensions. Take note that in the current version of the module,  by default all the existing values __will be displayed__, there is __not__ a code block inside this functions evaluating the size of the input prior to displaying it eventhough the option of cropping is available for both functions. However, we do intend to create such behaviour inside the functions in future updates\n",
    "\n"
   ]
  }
 ],
 "metadata": {
  "kernelspec": {
   "display_name": "Python 3",
   "language": "python",
   "name": "python3"
  },
  "language_info": {
   "codemirror_mode": {
    "name": "ipython",
    "version": 3
   },
   "file_extension": ".py",
   "mimetype": "text/x-python",
   "name": "python",
   "nbconvert_exporter": "python",
   "pygments_lexer": "ipython3",
   "version": "3.8.5"
  }
 },
 "nbformat": 4,
 "nbformat_minor": 4
}
